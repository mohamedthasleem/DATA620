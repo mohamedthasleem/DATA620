{
 "cells": [
  {
   "cell_type": "code",
   "execution_count": 1,
   "metadata": {},
   "outputs": [],
   "source": [
    "#import library\n",
    "import matplotlib.pyplot as plt\n",
    "import networkx as nx"
   ]
  },
  {
   "cell_type": "code",
   "execution_count": 2,
   "metadata": {},
   "outputs": [
    {
     "name": "stderr",
     "output_type": "stream",
     "text": [
      "C:\\Users\\aisha\\Anaconda3\\lib\\site-packages\\networkx\\drawing\\nx_pylab.py:579: MatplotlibDeprecationWarning: \n",
      "The iterable function was deprecated in Matplotlib 3.1 and will be removed in 3.3. Use np.iterable instead.\n",
      "  if not cb.iterable(width):\n"
     ]
    },
    {
     "data": {
      "image/png": "[encoded data removed]",
      "text/plain": [
       "<Figure size 432x288 with 1 Axes>"
      ]
     },
     "metadata": {},
     "output_type": "display_data"
    }
   ],
   "source": [
    "#Define graph\n",
    "G=nx.Graph()\n",
    "\n",
    "#Reference\n",
    "#https://networkx.github.io/documentation/stable/auto_examples/drawing/plot_house_with_colors.html\n",
    "\n",
    "# create edges\n",
    "G.add_edges_from([\n",
    "(\"Andre\",\"Beverly\"),\n",
    "(\"Andre\",\"Carol\"),\n",
    "(\"Andre\",\"Diane\"),\n",
    "(\"Andre\",\"Fernando\"),\n",
    "(\"Beverly\",\"Andre\"),\n",
    "(\"Beverly\",\"Diane\"),\n",
    "(\"Beverly\",\"Ed\"),\n",
    "(\"Beverly\",\"Garth\"),\n",
    "(\"Carol\",\"Andre\"),\n",
    "(\"Carol\",\"Diane\"),\n",
    "(\"Carol\",\"Fernando\"),\n",
    "(\"Ed\",\"Beverly\"),\n",
    "(\"Ed\",\"Diane\"),\n",
    "(\"Ed\",\"Garth\"),\n",
    "(\"Fernando\",\"Garth\"),\n",
    "(\"Fernando\",\"Diane\"),\n",
    "(\"Fernando\",\"Carol\"),\n",
    "(\"Garth\",\"Ed\"),\n",
    "(\"Garth\",\"Diane\"),\n",
    "(\"Garth\",\"Fernando\"),\n",
    "(\"Garth\",\"Heather\"),\n",
    "(\"Heather\",\"Garth\"),\n",
    "(\"Heather\",\"Ike\"),\n",
    "(\"Heather\",\"Fernando\"),\n",
    "(\"Ike\",\"Heather\"),\n",
    "(\"Ike\",\"Jane\"),\n",
    "(\"Jane\",\"Ike\")\n",
    "])\n",
    "\n",
    "# Set node positions explicitly \n",
    "pos={'Andre'   :(0,1),\n",
    "     'Beverly' :(0,-1),\n",
    "     'Carol'   :(1,2),\n",
    "     'Diane'   :(1,0),\n",
    "     'Ed'      :(1,-2),\n",
    "     'Garth'   :(2,-1),\n",
    "     'Fernando':(2,1),\n",
    "     'Heather' :(3,0),\n",
    "     'Ike'     :(4,0),\n",
    "     'Jane'    :(5,0)\n",
    "     }\n",
    "\n",
    "# nodes\n",
    "nx.draw_networkx_nodes(G,pos,node_size=300, node_color='lightgreen',node_shape='s')\n",
    "\n",
    "# edges\n",
    "nx.draw_networkx_edges(G,pos,alpha=0.3,width=3)\n",
    "\n",
    "# labels\n",
    "nx.draw_networkx_labels(G,pos,font_size=15,font_family='sans-serif')\n",
    "\n",
    "plt.axis('off')\n",
    "# display\n",
    "plt.show() "
   ]
  },
  {
   "cell_type": "code",
   "execution_count": null,
   "metadata": {},
   "outputs": [],
   "source": []
  },
  {
   "cell_type": "code",
   "execution_count": null,
   "metadata": {},
   "outputs": [],
   "source": []
  }
 ],
 "metadata": {
  "kernelspec": {
   "display_name": "Python 3",
   "language": "python",
   "name": "python3"
  },
  "language_info": {
   "codemirror_mode": {
    "name": "ipython",
    "version": 3
   },
   "file_extension": ".py",
   "mimetype": "text/x-python",
   "name": "python",
   "nbconvert_exporter": "python",
   "pygments_lexer": "ipython3",
   "version": "3.7.3"
  }
 },
 "nbformat": 4,
 "nbformat_minor": 4
}
