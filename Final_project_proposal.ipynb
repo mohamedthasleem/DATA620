{
 "cells": [
  {
   "cell_type": "markdown",
   "metadata": {},
   "source": [
    "<h2>DATA 620 - Web Analytics Final Project Proposal</h2>\n",
    "\n",
    "<h3>Team: Mohamed Thasleem, Kalikul Zaman and Jeyaraman, Ramalingam</h3>\n",
    "\n",
    "<h3>Overview</h3>\n",
    "\n",
    "Applying the learned concepts from this course, build an sentiment analysis from popular twitter account and analyze social influence using graph network. \n",
    "\n",
    "<h4>1. Data Sources</h4>\n",
    "\n",
    "We use twitter as data source, twitter stores the information (tweets) in metadata like name, id, date, location, source of device tweeted, location etc.\n",
    "\n",
    "Data will be pulled using Twitter API\n",
    "\n",
    "<h4>2. Text Mining</h4>\n",
    "\n",
    "Preprocessing the data includes profiling, cleaning and then prepare the traning and test datastes\n",
    "\n",
    "<h4>3. Model and Plan</h4> \n",
    "\n",
    "Pick the model the apply the following elements<br>\n",
    "Building the vocabulary<br>\n",
    "Matching tweets against our vocabulary<br>\n",
    "Building our feature vector<br>\n",
    "Training the classifier<br>\n",
    "Analyse the results<br>\n",
    "\n",
    "<h4>4. Network Analysis</h4>\n",
    "\n",
    "Pick any of the following twitter account from the top follower and perform network analysis on positive/negative feedback\n",
    "\n",
    "<h4>7. Obseravations and Final Conclusion</h4>\n",
    "\n",
    "Analyse and present Text Mining model classifier and graph network results with conclusion\n",
    "\n",
    "<h4>8. References</h4>\n",
    "\n",
    "https://developer.twitter.com/en/docs/api-reference-index<br>\n",
    "https://www.kdnuggets.com/2018/03/5-things-sentiment-analysis-classification.html<br>\n",
    "https://www.nltk.org/api/nltk.sentiment.html"
   ]
  },
  {
   "cell_type": "code",
   "execution_count": null,
   "metadata": {},
   "outputs": [],
   "source": []
  }
 ],
 "metadata": {
  "kernelspec": {
   "display_name": "Python 3",
   "language": "python",
   "name": "python3"
  },
  "language_info": {
   "codemirror_mode": {
    "name": "ipython",
    "version": 3
   },
   "file_extension": ".py",
   "mimetype": "text/x-python",
   "name": "python",
   "nbconvert_exporter": "python",
   "pygments_lexer": "ipython3",
   "version": "3.7.4"
  }
 },
 "nbformat": 4,
 "nbformat_minor": 2
}
