{
 "cells": [
  {
   "cell_type": "markdown",
   "metadata": {},
   "source": [
    "<h2>DATA 620 - Week Eight - Assignment High Frequency Words</h2>\n",
    "\n",
    "<h3>Mohamed Thasleem, Kalikul Zaman and Jeyaraman, Ramalingam</h3>"
   ]
  },
  {
   "attachments": {},
   "cell_type": "markdown",
   "metadata": {},
   "source": [
    "<h3>Introduction</h3>\n",
    "\n",
    "High frequency words using NLTK, In this analysis we took the corpus data from Internet Archvive \"Goody Two Shoes\" from University of California Libraries published in 1888. The objective is to find how the words have been distributed accorss the story and its insights\n",
    "\n",
    "The details about the book will be present in the https://archive.org/details/goodytwoshoes00newyiala/mode/2up"
   ]
  },
  {
   "cell_type": "code",
   "execution_count": 64,
   "metadata": {},
   "outputs": [],
   "source": [
    "import pandas as pd\n",
    "import nltk, re, pprint\n",
    "from nltk import word_tokenize\n",
    "from nltk.corpus import stopwords\n",
    "from urllib import request\n",
    "import matplotlib.pyplot as plt\n",
    "%matplotlib inline\n",
    "#nltk.download()"
   ]
  },
  {
   "cell_type": "markdown",
   "metadata": {},
   "source": [
    "<h3>Reading Data</h3>"
   ]
  },
  {
   "cell_type": "code",
   "execution_count": 30,
   "metadata": {},
   "outputs": [
    {
     "name": "stdout",
     "output_type": "stream",
     "text": [
      "17ARMER MEANWELL was at one time a very rich \n",
      "man. He owned large fields, and had fine flocks of \n",
      "sheep, and plenty of money. But all at once his good for- \n",
      "tune seemed to desert him. Year after year his crops failed, \n",
      "his sheep died off, and he was obliged to borrow money to \n",
      "pay his rent and the wages of those who worked on the \n",
      "farm. \n",
      "\n",
      "At last he had to sell his farm, but even this did not bring \n",
      "him in money enough to pay his debts, and he was worse off \n",
      "than ever. \n",
      "\n",
      ". Among those who had lent money to Farmer Mean well \n",
      "were Sir Thomas Gripe, and a Farmer named Graspall. \n",
      "\n",
      "Sir Thomas was a very rich man indeed, and Farmer \n",
      "Graspall had more money than he could possibly use. But \n",
      "they were both very greedy and covetous, and particularly \n",
      "hard on those who owed them anything. Farmer Graspall \n",
      "abused Farmer Meanwell and called him all sorts of dreadful \n",
      "names ; but the rich Sir Thomas Gripe was more cruel still, \n",
      "and wanted the poor debtor shut up in jail. \n",
      "\n",
      "So poor Farmer Meanwell had to hasten from the place \n",
      "where he had lived for so many years, in order to get out of \n",
      "the way of these greedy men. \n",
      "\n",
      "He went to the next village, taking his wife and his two \n",
      "little children with him. But though he was free from Gripe \n",
      "and Graspall she was not free from trouble and care. \n",
      "\n",
      "He soon fell ill, and when he found himself unable to get \n",
      "\n",
      "\n",
      "\n",
      "GOODY TWO SHOES. \n",
      "\n",
      "\n",
      "\n",
      "food and clothes for his family, he grew worse and worse and \n",
      "soon died. \n",
      "\n",
      "His wife could not bear the loss of her husband, whom \n",
      "she loved so dearly, and in a few days she was dead. \n",
      "\n",
      "The two orphan children seemed to be left entirely alone \n",
      "in the world, with no one to look after them, or care for them, \n",
      "but their Heavenly Father. \n",
      "\n",
      "They trotted around hand in hand, and the poorer they \n",
      "became the more they clung to each other Poor, ragged, \n",
      "and hungry enough they were ! \n",
      "\n",
      "Tommy had two shoes, but Margery went barefoot. They \n",
      "had nothing to eat but the berries that grew in the woods, \n",
      "and the scraps they could get from the poor people in the \n",
      "village, and at night they slept in barns or under hay-stacks. \n",
      "\n",
      "Their rich relations were too proud to notice them. But \n",
      "Mr. Smith, the clergyman of the village where the children \n",
      "were born, was not that sort of a man. A rich relation came \n",
      "to visit him a kind-hearted gentleman and the clergyman \n",
      "told him all about Tommy and Margery. The kind \n",
      "gentleman pitied them, and ordered Margery a pair of shoes \n",
      "and gave Mr. Smith money to buy her some clothes, \n",
      "which she needed sadly. As for Tommy he said he would \n",
      "take him off to sea with him and make him a sailor. After a \n",
      "few days, the gentleman said he must go to London and \n",
      "would take Tommy with him, and sad was the parting \n",
      "between the two children. \n",
      "\n",
      "Poor Margery was very lonely indeed, without her \n",
      "brother, and might have cried herself sick but for the new \n",
      "shoes that were brought home to her. \n",
      "\n",
      "They turned her thoughts from her grief; and as soon as \n",
      "\n",
      "\n",
      "\n",
      "GOODY TWO SHOES. \n",
      "\n",
      "\n",
      "\n",
      "she had put them on she ran in to Mrs. Smith and cried out: \n",
      "\"Two shoes, ma'am, two shoes!\" These words she re- \n",
      "peated to every one she met, and thus it was she got the \n",
      "name of Goody Two Shoes \n",
      "\n",
      "Little Margery had seen now good and wise Mr. Smith \n",
      "was, and thought it was because of his great learning ; and \n",
      "she wanted, above all things, to learn to read. At last she \n",
      "made up her mind to ask Mr. Smith to teach her when he \n",
      "had a moment to spare. He readily agreed to do this, and \n",
      "Margery read to him an hour every day, and spent much \n",
      "time with her books. \n",
      "\n",
      "Then she laid out a plan for teaching others more ignorant \n",
      "than herself. She cut out of thin pieces of wood ten sets of \n",
      "large and small letters of the alphabet, and carried these with \n",
      "her when she went from house to house. When she came \n",
      "to Billy Wilson's she threw down the letters all in a heap, \n",
      "and Billy picked them out and sorted them in lines, thus : \n",
      "ABCDEFGHIJK, \n",
      "abed efghij k, \n",
      "and so on until all the letters were in their right places. \n",
      "\n",
      "From there Goody Two Shoes trotted off to another \n",
      "cottage, and here were several children waiting for her. As \n",
      "soon as the little girl came in they all crowded around her, \n",
      "and were eager to begin their lessons at once. \n",
      "\n",
      "Then she threw the letters down and said to the boy next \n",
      "her, \" What did you have for dinner to-day?\" \"Bread,\" \n",
      "answered the little boy. \" Well, put down the first letter,\" \n",
      "said Goody Two Shoes. Then he put down B, and the next \n",
      "child R, and the. next E, and the next A, and the next D, \n",
      "and there was the wole word BREAD. \n",
      "\n",
      "\n",
      "\n",
      "GOODY TWO SHOES. \n",
      "\n",
      "\n",
      "\n",
      "\" What did you have for dinner, Polly Driggs ? \" \n",
      "\n",
      "\" Apple-pie,\" said Polly ; upon which she laid down the \n",
      "first letter, A, and the next put down a P, and the next \n",
      "another P, and so on until the words Apple and Pie were \n",
      "united, and stood thus: APPLE PIE. \n",
      "\n",
      "Now it happened one evening that Goody Two Shoes was \n",
      "going home rather late. She had made a longer round \n",
      "than usual, and everybody had kept her waiting, so that \n",
      "night came on before her day's work was done. Right \n",
      "glad was she to set out for her own home, and she walked \n",
      "along contentedly through the fields, and lanes, and roads, \n",
      "enjoying the quiet evening. The evening was not cool, \n",
      "however, but close and sultry, and betokened a storm. Pres- \n",
      "ently a drop fell on Goody's face. What should she do? If \n",
      "she did not make haste she would soon be wet to the skin. \n",
      "\n",
      "Fortunately there was an old barn down the road, in which \n",
      "she could find shelter, and Goody Two Shoes gathered her \n",
      "skirts about her and took to her heels, and ran as if some- \n",
      "body was after her. The owner of the barn had died lately, \n",
      "and the property was to be sold, and there was a lot of loose \n",
      "hay on the floor which had not yet been taken away. \n",
      "\n",
      "Goody Two Shoes cuddled down in the soft hay, glad of \n",
      "a chance to rest her weary limbs, and quite out of breath \n",
      "with her long run ; and just then down rattled the rain, the \n",
      "thunder roared, the lightning flashed, and the old barn \n",
      "trembled, and so did Goody Two Shoes. \n",
      "\n",
      "She had not been there long before she heard footsteps, \n",
      "and three men came into the barn for shelter. The hay was \n",
      "piled up between her and them, so that they could not see \n",
      "her, and, thinking they were alone, they spoke quite loudly. \n",
      "\n",
      "\n",
      "\n",
      "GOODY TWO SHOES. \n",
      "\n",
      "\n",
      "\n",
      "They were plotting to rob Squire Trueman, who lived in \n",
      "the great house in Margery's village, and were to break in \n",
      "and steal all they could that very night. This was quite \n",
      "enough for Goody Two Shoes. She waited for nothing, but \n",
      "dashed out of the barn, and ran through rain and mud till she \n",
      "came to the Squire's house. \n",
      "\n",
      "He was at dinner with some friends, and any one else but \n",
      "Goody would have found it difficult to gain admission to him. \n",
      "But she was well known to the servants, and was so kind \n",
      "and obliging, that even the big fat butler could not refuse to \n",
      "do her bidding, and went and told the squire that Goody \n",
      "Two Shoes wished very much to see him. \n",
      "\n",
      "So the squire asked his friends to excuse him for a \n",
      "moment, and came out and said, \"Well, Goody Two Shoes, \n",
      "my good girl, what is it?\" \"Oh, sir,\" she replied, \"if you \n",
      "do not take care you will be robbed and murdered this very \n",
      "night!\" \n",
      "\n",
      "Then she told all she had heard the men say while she \n",
      "was in the barn. \n",
      "\n",
      "The squire saw there was not a moment to lose, so he \n",
      "went back and told his friends the news he had heard. They \n",
      ".all said they would stay and help him take the thieves. So \n",
      "the lights were put out, to make it appear as if all the people \n",
      "in the house were in bed, and servants and all kept a close \n",
      "watch both inside and outside. \n",
      "\n",
      "Sure enough, at about one o'clock in the morning the \n",
      "three men came creeping, creeping up to the house with a \n",
      "dark lantern, and the tools to break in with. Before they \n",
      "were aware, six men sprang out on them, and held them fast. \n",
      "The thieves struggled in vain to get away. They were \n",
      "\n",
      "\n",
      "\n",
      "GOODY TWO SHOES \n",
      "\n",
      "\n",
      "\n",
      "locked in an out-house until daylight, when a cart came and \n",
      "took them off to jail. \n",
      "\n",
      "They were afterward sent out of the country, where they \n",
      "had to work in chains on the roads ; and it is said that one \n",
      "of them behaved so well that he was pardoned, and went to \n",
      "live at Australia, where he became a rich man. \n",
      "\n",
      "The other two went from bad to worse, and it is likely \n",
      "that they came to some dreadful end. For sin never goes \n",
      "unpunished. \n",
      "\n",
      "But to return to Goody Two Shoes. One day as she was \n",
      "walking through the village she saw some wicked boys with \n",
      "a raven, at which they were going to throw stones. To stop \n",
      "this cruel sport she gave the boys a penny for the raven, \n",
      "and brought the bird home with her. She gave him the \n",
      "name of \" Ralph,\"and he proved to be a very clever creature \n",
      "indeed. She taught him to spell, and to read, and he was \n",
      "so fond of playing with the large letters, that the children \n",
      "called them \" Ralph's Alphabet.\" \n",
      "\n",
      "Some days after Goody had met with the raven, she was \n",
      "passing through a field, when she saw some naughty boys \n",
      "who had taken a pigeon, and tied a string to its legs in order \n",
      "to let it fly and draw it back again when they pleased. \n",
      "\n",
      "Goody could not bear to see anything tortured like that, so \n",
      "she bought the pigeon from the boys and taught him how to \n",
      "spell and read. But he could not talk. And as Ralph, the \n",
      "raven, took the large letters, Peter, the pigeon, took care of \n",
      "the small ones. \n",
      "\n",
      "Mrs. Williams, who lived in Margery's village, kept \n",
      "school, and taught little ones their A B C's. She was now \n",
      "old and feeble, and wanted to give up this important trust. \n",
      "\n",
      "\n",
      "\n",
      "GOODY TWO SHOES. \n",
      "\n",
      "\n",
      "\n",
      "This being known to Sir William Dove, he asked Mrs. \n",
      "Williams to examine Goody Two Shoes and see if she was \n",
      "not clever enough for the office. This was done, and Mrs. \n",
      "Williams reported that little Margery was the best scholar, \n",
      "and had the best heart of any one she had ever examined. \n",
      "All the country had a great opinion of Mrs. Williams, and \n",
      "this report made them think highly of Miss MARGERY, as we \n",
      "must now call her. \n",
      "\n",
      "So Margery Meanwell was now a schoolmistress, and a \n",
      "capital one she made. The children all loved her, for she \n",
      "was never weary of making plans for their happiness. \n",
      "\n",
      "The room in which she taught was large and lofty, and \n",
      "there was plenty of fresh air in it ; and as she knew that \n",
      "children liked to move about, she placed her sets of letters all \n",
      "round the school, so that every one was obliged to get up to \n",
      "find a letter, or spell a word, when it came their turn. \n",
      "\n",
      "This exercise not only kept the children in good health, \n",
      "but fixed the letters firmly in their minds. \n",
      "\n",
      "The neighbors were very good to her, and one of them \n",
      "made her a present of a little skylark, whose early morning \n",
      "song told the lazy boys and girls that it was time they were \n",
      "out of bed. \n",
      "\n",
      "Some time after this a poor lamb lost its dam, and the \n",
      "farmer being about to kill it, she bought it of him, and \n",
      "brought it home to play with the children. \n",
      "\n",
      "Soon after this a present was made to Miss Margery of a \n",
      "dog, and as he was always in good humor, and always jump- \n",
      "ing about, the children gave him the name of Jumper. It \n",
      "was his duty to guard the door, and no one could go out or \n",
      "come in without leave from his mistress. \n",
      "\n",
      "\n",
      "\n",
      "GO. \n",
      "\n",
      "\n",
      "\n",
      "Margery was so wise and good that some foolish people \n",
      "accused her of being a witch, and she was taken to court \n",
      "and tried before the judge. She soon proved that she was \n",
      "a most sensible woman, and Sir Charles Jones was so \n",
      "pleased with her, that he offered her a large sum of money \n",
      "to take care of his family, and educate his daughter. At \n",
      "first she refused, but afterwards went and behaved so well, \n",
      "and was so kind and tender, that Sir Charles would not \n",
      "permit her to leave the house, and soon after made her an \n",
      "offer of marriage. \n",
      "\n",
      "The neighbors came in crowds to the wedding, and all \n",
      "were glad that one who had been such a good girl, and had \n",
      "grown up such a good woman, was to become a grand \n",
      "lady. \n",
      "\n",
      "Just as the clergyman had opened his book, a gentleman, \n",
      "richly dressed, ran into the church and cried, \" Stop ! stop I\" \n",
      "\n",
      "Great alarm was felt, especially by the bride and groom, \n",
      "with whom he said he wished to speak privately. \n",
      "\n",
      "Sir Charles stood motionless with surprise, and the bride \n",
      "fainted away in the stranger's arms. For this richly-dressed \n",
      "gentleman turned out to be little Tommy Meanwell, who \n",
      "had just come from sea, where he had made a large fortune. \n",
      "\n",
      "Sir Charles and Lady Jones lived very happily together, \n",
      "and the great lady did not forget the children, but was just \n",
      "as good to them as she had always been. She was also \n",
      "kind and good to the poor, and the sick, and a friend to all \n",
      "who were in distress. Her life was a great blessing, and her \n",
      "death the greatest calamity that ever took place in the \n",
      "neighborhood where she lived, \n"
     ]
    }
   ],
   "source": [
    "# Loading the data\n",
    "url = \"https://ia803103.us.archive.org/14/items/goodytwoshoes00newyiala/goodytwoshoes00newyiala_djvu.txt\"\n",
    "response = request.urlopen(url)\n",
    "story = response.read().decode('utf8')\n",
    "\n",
    "# Cleaning the data by removing the unnessary headers and footers\n",
    "text_start = story.find(\"17ARMER MEANWELL was at one time a very rich\")\n",
    "text_end = story.find(\"and was known as\")\n",
    "story = story[text_start:text_end]\n",
    "#Printing the Story\n",
    "print(story)"
   ]
  },
  {
   "cell_type": "markdown",
   "metadata": {},
   "source": [
    "<h3>Words Details</h3>"
   ]
  },
  {
   "cell_type": "code",
   "execution_count": 31,
   "metadata": {},
   "outputs": [],
   "source": [
    "tokens = word_tokenize(story)\n",
    "words = [w for w in tokens if w.isalpha()]\n",
    "words = [w.lower() for w in words]"
   ]
  },
  {
   "cell_type": "code",
   "execution_count": 32,
   "metadata": {},
   "outputs": [
    {
     "data": {
      "text/plain": [
       "2748"
      ]
     },
     "execution_count": 32,
     "metadata": {},
     "output_type": "execute_result"
    }
   ],
   "source": [
    "len(tokens)"
   ]
  },
  {
   "cell_type": "code",
   "execution_count": 33,
   "metadata": {},
   "outputs": [
    {
     "data": {
      "text/plain": [
       "675"
      ]
     },
     "execution_count": 33,
     "metadata": {},
     "output_type": "execute_result"
    }
   ],
   "source": [
    "len(set(words))"
   ]
  },
  {
   "cell_type": "markdown",
   "metadata": {},
   "source": [
    "There are 675 unique words in the story"
   ]
  },
  {
   "cell_type": "markdown",
   "metadata": {},
   "source": [
    "<h3>Stemmers</h3>\n",
    "\n",
    "Stemmers remove morphological affixes from words, leaving only the word stem, We are using Porter Stemmer method"
   ]
  },
  {
   "cell_type": "code",
   "execution_count": 34,
   "metadata": {},
   "outputs": [],
   "source": [
    "from nltk.stem.porter import PorterStemmer\n",
    "ps = PorterStemmer()"
   ]
  },
  {
   "cell_type": "code",
   "execution_count": 35,
   "metadata": {},
   "outputs": [
    {
     "data": {
      "text/plain": [
       "618"
      ]
     },
     "execution_count": 35,
     "metadata": {},
     "output_type": "execute_result"
    }
   ],
   "source": [
    "stem = [ps.stem(w) for w in words]\n",
    "stem = set(stem)\n",
    "len(stem)"
   ]
  },
  {
   "cell_type": "markdown",
   "metadata": {},
   "source": [
    "<h3>Lemmatisation</h3>\n",
    "\n",
    "Lemmatisation in linguistics is the process of grouping together the inflected forms of a word so they can be analysed as a single item, We are making use of WordNetLemmatizer from NLTK"
   ]
  },
  {
   "cell_type": "code",
   "execution_count": 10,
   "metadata": {},
   "outputs": [],
   "source": [
    "from nltk.stem import WordNetLemmatizer\n",
    "wordnet = WordNetLemmatizer()"
   ]
  },
  {
   "cell_type": "code",
   "execution_count": 36,
   "metadata": {},
   "outputs": [
    {
     "data": {
      "text/plain": [
       "650"
      ]
     },
     "execution_count": 36,
     "metadata": {},
     "output_type": "execute_result"
    }
   ],
   "source": [
    "lemma = [wordnet.lemmatize(w) for w in words]\n",
    "lemma = set(lemma)\n",
    "len(lemma)"
   ]
  },
  {
   "cell_type": "markdown",
   "metadata": {},
   "source": [
    "<h3>Unique words represent half of the total words</h3>\n",
    "\n",
    "We can consider the most common words are top 200 words, and to find out the unique words represent half of the total words in the corpus"
   ]
  },
  {
   "cell_type": "code",
   "execution_count": 42,
   "metadata": {},
   "outputs": [],
   "source": [
    "dist = nltk.FreqDist(words)\n",
    "top_words = dist.most_common(200)"
   ]
  },
  {
   "cell_type": "code",
   "execution_count": 43,
   "metadata": {},
   "outputs": [
    {
     "name": "stdout",
     "output_type": "stream",
     "text": [
      "[('and', 145), ('the', 128), ('to', 90), ('she', 58), ('was', 57), ('a', 54), ('of', 42), ('in', 39), ('her', 38), ('he', 31), ('had', 30), ('they', 25), ('two', 25), ('that', 24), ('were', 23), ('goody', 22), ('shoes', 22), ('so', 21), ('him', 20), ('for', 20), ('but', 19), ('his', 18), ('not', 18), ('with', 18), ('them', 17), ('it', 17), ('all', 16), ('out', 15), ('as', 15), ('one', 14), ('this', 13), ('margery', 13), ('children', 12), ('came', 12), ('at', 11), ('good', 11), ('from', 11), ('very', 10), ('on', 10), ('could', 10), ('who', 9), ('sir', 9), ('said', 9), ('down', 9), ('after', 8), ('went', 8), ('next', 8), ('little', 8), ('soon', 8), ('when', 8), ('their', 8), ('some', 8), ('made', 8), ('letters', 8), ('large', 7), ('money', 7), ('farmer', 7), ('poor', 7), ('up', 7), ('house', 7), ('there', 7), ('rich', 6), ('did', 6), ('well', 6)]\n"
     ]
    }
   ],
   "source": [
    "i = 0\n",
    "half_total = []\n",
    "for w in top_words:\n",
    "    if i >= len(tokens)/2:\n",
    "        break\n",
    "    else:\n",
    "        i = i + w[1]\n",
    "        half_total.append(w)\n",
    "len(half_words)\n",
    "print(half_words)"
   ]
  },
  {
   "cell_type": "markdown",
   "metadata": {},
   "source": [
    "<h3>Highest frequency words in this corpus</h3>"
   ]
  },
  {
   "cell_type": "code",
   "execution_count": 58,
   "metadata": {},
   "outputs": [
    {
     "data": {
      "text/html": [
       "<div>\n",
       "<style scoped>\n",
       "    .dataframe tbody tr th:only-of-type {\n",
       "        vertical-align: middle;\n",
       "    }\n",
       "\n",
       "    .dataframe tbody tr th {\n",
       "        vertical-align: top;\n",
       "    }\n",
       "\n",
       "    .dataframe thead th {\n",
       "        text-align: right;\n",
       "    }\n",
       "</style>\n",
       "<table border=\"1\" class=\"dataframe\">\n",
       "  <thead>\n",
       "    <tr style=\"text-align: right;\">\n",
       "      <th></th>\n",
       "      <th>Word</th>\n",
       "      <th>Freq</th>\n",
       "      <th>Relative_Freq</th>\n",
       "    </tr>\n",
       "  </thead>\n",
       "  <tbody>\n",
       "    <tr>\n",
       "      <td>0</td>\n",
       "      <td>and</td>\n",
       "      <td>145</td>\n",
       "      <td>0.078890</td>\n",
       "    </tr>\n",
       "    <tr>\n",
       "      <td>1</td>\n",
       "      <td>the</td>\n",
       "      <td>128</td>\n",
       "      <td>0.069641</td>\n",
       "    </tr>\n",
       "    <tr>\n",
       "      <td>2</td>\n",
       "      <td>to</td>\n",
       "      <td>90</td>\n",
       "      <td>0.048966</td>\n",
       "    </tr>\n",
       "    <tr>\n",
       "      <td>3</td>\n",
       "      <td>she</td>\n",
       "      <td>58</td>\n",
       "      <td>0.031556</td>\n",
       "    </tr>\n",
       "    <tr>\n",
       "      <td>4</td>\n",
       "      <td>was</td>\n",
       "      <td>57</td>\n",
       "      <td>0.031012</td>\n",
       "    </tr>\n",
       "    <tr>\n",
       "      <td>...</td>\n",
       "      <td>...</td>\n",
       "      <td>...</td>\n",
       "      <td>...</td>\n",
       "    </tr>\n",
       "    <tr>\n",
       "      <td>195</td>\n",
       "      <td>trotted</td>\n",
       "      <td>2</td>\n",
       "      <td>0.001088</td>\n",
       "    </tr>\n",
       "    <tr>\n",
       "      <td>196</td>\n",
       "      <td>around</td>\n",
       "      <td>2</td>\n",
       "      <td>0.001088</td>\n",
       "    </tr>\n",
       "    <tr>\n",
       "      <td>197</td>\n",
       "      <td>hand</td>\n",
       "      <td>2</td>\n",
       "      <td>0.001088</td>\n",
       "    </tr>\n",
       "    <tr>\n",
       "      <td>198</td>\n",
       "      <td>became</td>\n",
       "      <td>2</td>\n",
       "      <td>0.001088</td>\n",
       "    </tr>\n",
       "    <tr>\n",
       "      <td>199</td>\n",
       "      <td>other</td>\n",
       "      <td>2</td>\n",
       "      <td>0.001088</td>\n",
       "    </tr>\n",
       "  </tbody>\n",
       "</table>\n",
       "<p>200 rows × 3 columns</p>\n",
       "</div>"
      ],
      "text/plain": [
       "        Word  Freq  Relative_Freq\n",
       "0        and   145       0.078890\n",
       "1        the   128       0.069641\n",
       "2         to    90       0.048966\n",
       "3        she    58       0.031556\n",
       "4        was    57       0.031012\n",
       "..       ...   ...            ...\n",
       "195  trotted     2       0.001088\n",
       "196   around     2       0.001088\n",
       "197     hand     2       0.001088\n",
       "198   became     2       0.001088\n",
       "199    other     2       0.001088\n",
       "\n",
       "[200 rows x 3 columns]"
      ]
     },
     "execution_count": 58,
     "metadata": {},
     "output_type": "execute_result"
    }
   ],
   "source": [
    "top_words = dist.most_common(200)\n",
    "top_wordsdf = pd.DataFrame(top_words, columns = ['Word', 'Freq'])\n",
    "#Calculate Relative_Frequency\n",
    "top_wordsdf['Relative_Freq'] = top_wordsdf['Freq']/top_wordsdf['Freq'].sum()\n",
    "top_wordsdf"
   ]
  },
  {
   "cell_type": "markdown",
   "metadata": {},
   "source": [
    "<h4>Words Frquency Plot</h4>"
   ]
  },
  {
   "cell_type": "code",
   "execution_count": 55,
   "metadata": {},
   "outputs": [
    {
     "data": {
      "image/png": "[encoded data removed]",
      "text/plain": [
       "<Figure size 1728x864 with 1 Axes>"
      ]
     },
     "metadata": {
      "needs_background": "light"
     },
     "output_type": "display_data"
    },
    {
     "data": {
      "text/plain": [
       "<matplotlib.axes._subplots.AxesSubplot at 0x15079b4c908>"
      ]
     },
     "execution_count": 55,
     "metadata": {},
     "output_type": "execute_result"
    }
   ],
   "source": [
    "plt.figure(figsize=(24, 12))\n",
    "plt.rc('xtick', labelsize=16) \n",
    "dist.plot(100)"
   ]
  },
  {
   "cell_type": "markdown",
   "metadata": {},
   "source": [
    "<h4>Relative Frquency Plot</h4>"
   ]
  },
  {
   "cell_type": "code",
   "execution_count": 59,
   "metadata": {},
   "outputs": [
    {
     "data": {
      "text/plain": [
       "<matplotlib.axes._subplots.AxesSubplot at 0x15079d01048>"
      ]
     },
     "execution_count": 59,
     "metadata": {},
     "output_type": "execute_result"
    },
    {
     "data": {
      "image/png": "[encoded data removed]",
      "text/plain": [
       "<Figure size 1728x864 with 1 Axes>"
      ]
     },
     "metadata": {
      "needs_background": "light"
     },
     "output_type": "display_data"
    }
   ],
   "source": [
    "plt.figure(figsize=(24, 12))\n",
    "top_wordsdf['Relative_Freq'].plot()"
   ]
  },
  {
   "cell_type": "markdown",
   "metadata": {},
   "source": [
    "<h3>Zipf’s law</h3>"
   ]
  },
  {
   "cell_type": "markdown",
   "metadata": {},
   "source": [
    "The probability of occurrence of words or other items starts high and tapers off. Thus, a few occur very often while many others occur rarely"
   ]
  },
  {
   "cell_type": "code",
   "execution_count": 18,
   "metadata": {},
   "outputs": [],
   "source": [
    "#perform some cleaning\n",
    "stoplist = stopwords.words('english')\n",
    "uwords = [w for w in words if w not in stoplist]\n",
    "ufd = nltk.FreqDist(uwords)"
   ]
  },
  {
   "cell_type": "code",
   "execution_count": 62,
   "metadata": {},
   "outputs": [],
   "source": [
    "zwords = top_words = dist.most_common(200)\n",
    "x_vec = [i+1 for i in range(len(zwords))]\n",
    "y_vec = [freq for (word,freq) in zwords]"
   ]
  },
  {
   "cell_type": "code",
   "execution_count": 63,
   "metadata": {
    "scrolled": true
   },
   "outputs": [
    {
     "data": {
      "image/png": "[encoded data removed]",
      "text/plain": [
       "<Figure size 1728x864 with 1 Axes>"
      ]
     },
     "metadata": {
      "needs_background": "light"
     },
     "output_type": "display_data"
    }
   ],
   "source": [
    "plt.figure(figsize=(24,12))\n",
    "plt.semilogy(x_vec, y_vec)\n",
    "plt.show()"
   ]
  },
  {
   "cell_type": "markdown",
   "metadata": {},
   "source": [
    "We can see that most frequent word first. Zipf’s Law states that the frequency of a word type is inversely proportional to its rank"
   ]
  },
  {
   "cell_type": "markdown",
   "metadata": {},
   "source": [
    "<h3>Conclusion</h3>\n",
    "\n",
    "Since we dealt with limited number of words, it may obey the zipf law, also the corpus might be differ from the context and author of the book who written in such a way, In this case book tells some story to children so author used more basic words such and, the , she more often compared to actual meaning words."
   ]
  }
 ],
 "metadata": {
  "kernelspec": {
   "display_name": "Python 3",
   "language": "python",
   "name": "python3"
  },
  "language_info": {
   "codemirror_mode": {
    "name": "ipython",
    "version": 3
   },
   "file_extension": ".py",
   "mimetype": "text/x-python",
   "name": "python",
   "nbconvert_exporter": "python",
   "pygments_lexer": "ipython3",
   "version": "3.7.4"
  }
 },
 "nbformat": 4,
 "nbformat_minor": 2
}
